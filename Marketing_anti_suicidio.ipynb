{
  "nbformat": 4,
  "nbformat_minor": 0,
  "metadata": {
    "colab": {
      "name": "Marketing anti-suicidio",
      "provenance": []
    },
    "kernelspec": {
      "name": "python3",
      "display_name": "Python 3"
    },
    "language_info": {
      "name": "python"
    }
  },
  "cells": [
    {
      "cell_type": "markdown",
      "metadata": {
        "id": "KWAUG7M7Yj6n"
      },
      "source": [
        "## Problema de negócio"
      ]
    },
    {
      "cell_type": "markdown",
      "metadata": {
        "id": "F2rpiSnyYEBt"
      },
      "source": [
        "A empresa para qual você trabalha, lhe pediu umas informações sobre suicídio no Brasil, desejando conhecer as pessoas mais propícias a tirarem a própria vida. O objetivo é a construção de uma campanha de marketing anti-suicídio através de palestras. Com os resultados da sua análise, buscarão locais onde se concentrem as características que você descobriu explorando os dados."
      ]
    },
    {
      "cell_type": "markdown",
      "metadata": {
        "id": "ERLgXT7WYnVC"
      },
      "source": [
        "## Obtenção e limpeza dos dados"
      ]
    },
    {
      "cell_type": "code",
      "metadata": {
        "id": "hAAndqQvRAK1"
      },
      "source": [
        "import pandas as pd\n",
        "import numpy as np\n",
        "import matplotlib.pyplot as plt\n",
        "import seaborn as sns"
      ],
      "execution_count": 34,
      "outputs": []
    },
    {
      "cell_type": "code",
      "metadata": {
        "id": "dyiB4tzGRF8C"
      },
      "source": [
        "cor_genero = ['#F781D8', '#819FF7']"
      ],
      "execution_count": 35,
      "outputs": []
    },
    {
      "cell_type": "code",
      "metadata": {
        "colab": {
          "base_uri": "https://localhost:8080/",
          "height": 202
        },
        "id": "zIh3vMi1RHwY",
        "outputId": "75ac14ad-74ef-4076-c334-26c912e5046b"
      },
      "source": [
        "df = pd.read_csv('https://raw.githubusercontent.com/carlosfab/data_science/master/datasets/suicide_rates.csv')\n",
        "df.head()"
      ],
      "execution_count": 36,
      "outputs": [
        {
          "output_type": "execute_result",
          "data": {
            "text/html": [
              "<div>\n",
              "<style scoped>\n",
              "    .dataframe tbody tr th:only-of-type {\n",
              "        vertical-align: middle;\n",
              "    }\n",
              "\n",
              "    .dataframe tbody tr th {\n",
              "        vertical-align: top;\n",
              "    }\n",
              "\n",
              "    .dataframe thead th {\n",
              "        text-align: right;\n",
              "    }\n",
              "</style>\n",
              "<table border=\"1\" class=\"dataframe\">\n",
              "  <thead>\n",
              "    <tr style=\"text-align: right;\">\n",
              "      <th></th>\n",
              "      <th>country</th>\n",
              "      <th>year</th>\n",
              "      <th>sex</th>\n",
              "      <th>age</th>\n",
              "      <th>suicides_no</th>\n",
              "      <th>population</th>\n",
              "      <th>suicides/100k pop</th>\n",
              "      <th>country-year</th>\n",
              "      <th>HDI for year</th>\n",
              "      <th>gdp_for_year ($)</th>\n",
              "      <th>gdp_per_capita ($)</th>\n",
              "      <th>generation</th>\n",
              "    </tr>\n",
              "  </thead>\n",
              "  <tbody>\n",
              "    <tr>\n",
              "      <th>0</th>\n",
              "      <td>Albania</td>\n",
              "      <td>1987</td>\n",
              "      <td>male</td>\n",
              "      <td>15-24 years</td>\n",
              "      <td>21</td>\n",
              "      <td>312900</td>\n",
              "      <td>6.71</td>\n",
              "      <td>Albania1987</td>\n",
              "      <td>NaN</td>\n",
              "      <td>2,156,624,900</td>\n",
              "      <td>796</td>\n",
              "      <td>Generation X</td>\n",
              "    </tr>\n",
              "    <tr>\n",
              "      <th>1</th>\n",
              "      <td>Albania</td>\n",
              "      <td>1987</td>\n",
              "      <td>male</td>\n",
              "      <td>35-54 years</td>\n",
              "      <td>16</td>\n",
              "      <td>308000</td>\n",
              "      <td>5.19</td>\n",
              "      <td>Albania1987</td>\n",
              "      <td>NaN</td>\n",
              "      <td>2,156,624,900</td>\n",
              "      <td>796</td>\n",
              "      <td>Silent</td>\n",
              "    </tr>\n",
              "    <tr>\n",
              "      <th>2</th>\n",
              "      <td>Albania</td>\n",
              "      <td>1987</td>\n",
              "      <td>female</td>\n",
              "      <td>15-24 years</td>\n",
              "      <td>14</td>\n",
              "      <td>289700</td>\n",
              "      <td>4.83</td>\n",
              "      <td>Albania1987</td>\n",
              "      <td>NaN</td>\n",
              "      <td>2,156,624,900</td>\n",
              "      <td>796</td>\n",
              "      <td>Generation X</td>\n",
              "    </tr>\n",
              "    <tr>\n",
              "      <th>3</th>\n",
              "      <td>Albania</td>\n",
              "      <td>1987</td>\n",
              "      <td>male</td>\n",
              "      <td>75+ years</td>\n",
              "      <td>1</td>\n",
              "      <td>21800</td>\n",
              "      <td>4.59</td>\n",
              "      <td>Albania1987</td>\n",
              "      <td>NaN</td>\n",
              "      <td>2,156,624,900</td>\n",
              "      <td>796</td>\n",
              "      <td>G.I. Generation</td>\n",
              "    </tr>\n",
              "    <tr>\n",
              "      <th>4</th>\n",
              "      <td>Albania</td>\n",
              "      <td>1987</td>\n",
              "      <td>male</td>\n",
              "      <td>25-34 years</td>\n",
              "      <td>9</td>\n",
              "      <td>274300</td>\n",
              "      <td>3.28</td>\n",
              "      <td>Albania1987</td>\n",
              "      <td>NaN</td>\n",
              "      <td>2,156,624,900</td>\n",
              "      <td>796</td>\n",
              "      <td>Boomers</td>\n",
              "    </tr>\n",
              "  </tbody>\n",
              "</table>\n",
              "</div>"
            ],
            "text/plain": [
              "   country  year  ... gdp_per_capita ($)       generation\n",
              "0  Albania  1987  ...                796     Generation X\n",
              "1  Albania  1987  ...                796           Silent\n",
              "2  Albania  1987  ...                796     Generation X\n",
              "3  Albania  1987  ...                796  G.I. Generation\n",
              "4  Albania  1987  ...                796          Boomers\n",
              "\n",
              "[5 rows x 12 columns]"
            ]
          },
          "metadata": {
            "tags": []
          },
          "execution_count": 36
        }
      ]
    },
    {
      "cell_type": "markdown",
      "metadata": {
        "id": "ZIhs0UFnRS7M"
      },
      "source": [
        "**Dicionário dos dados**\n",
        "\n",
        "Country: Coluna que representa os países (string)\n",
        "\n",
        "Year: Coluna que representa os anos (integer)\n",
        "\n",
        "Sex: Coluna que representa os gêneros (string)\n",
        "\n",
        "Age: Coluna que representa as idades (string)\n",
        "\n",
        "Suicides_no: Coluna que representa o número de suicídios (integer)\n",
        "\n",
        "Population: Coluna que representa a população (integer)\n",
        "\n",
        "Suicides/100k pop: Coluna que representa o número de suicídio a cada 100 mil habitantes (float)\n",
        "\n",
        "Country-year: Coluna que representa (string)\n",
        "\n",
        "HDI for year: Coluna que representa o IDH em cada ano (float)\n",
        "\n",
        "Gdp_for_year ($): Coluna que representa o PIB em cada ano (string)\n",
        "\n",
        "Gdp_per_capita ($): Coluna que representa o PIB per capita (float)\n",
        "\n",
        "Generation: Coluna que representa a geração (string)\n",
        "\n",
        "Como estamos tratando do caso Brasileiro, iremos limitar nosso dataframe, selecionando apenas o \"Brazil\" na coluna \"Country\""
      ]
    },
    {
      "cell_type": "code",
      "metadata": {
        "colab": {
          "base_uri": "https://localhost:8080/"
        },
        "id": "SNo2FuRwRKyO",
        "outputId": "13741bbd-fcd2-4a2f-d336-65e053da2873"
      },
      "source": [
        "\n",
        "df.info()"
      ],
      "execution_count": 37,
      "outputs": [
        {
          "output_type": "stream",
          "text": [
            "<class 'pandas.core.frame.DataFrame'>\n",
            "RangeIndex: 27820 entries, 0 to 27819\n",
            "Data columns (total 12 columns):\n",
            " #   Column              Non-Null Count  Dtype  \n",
            "---  ------              --------------  -----  \n",
            " 0   country             27820 non-null  object \n",
            " 1   year                27820 non-null  int64  \n",
            " 2   sex                 27820 non-null  object \n",
            " 3   age                 27820 non-null  object \n",
            " 4   suicides_no         27820 non-null  int64  \n",
            " 5   population          27820 non-null  int64  \n",
            " 6   suicides/100k pop   27820 non-null  float64\n",
            " 7   country-year        27820 non-null  object \n",
            " 8   HDI for year        8364 non-null   float64\n",
            " 9    gdp_for_year ($)   27820 non-null  object \n",
            " 10  gdp_per_capita ($)  27820 non-null  int64  \n",
            " 11  generation          27820 non-null  object \n",
            "dtypes: float64(2), int64(4), object(6)\n",
            "memory usage: 2.5+ MB\n"
          ],
          "name": "stdout"
        }
      ]
    },
    {
      "cell_type": "code",
      "metadata": {
        "colab": {
          "base_uri": "https://localhost:8080/",
          "height": 202
        },
        "id": "ZoU1b_odRNcD",
        "outputId": "1ca3eb26-f3bf-4790-b307-43cafdcafd71"
      },
      "source": [
        "\n",
        "df_brasil = df[df['country']=='Brazil']\n",
        "df_brasil.head()"
      ],
      "execution_count": 38,
      "outputs": [
        {
          "output_type": "execute_result",
          "data": {
            "text/html": [
              "<div>\n",
              "<style scoped>\n",
              "    .dataframe tbody tr th:only-of-type {\n",
              "        vertical-align: middle;\n",
              "    }\n",
              "\n",
              "    .dataframe tbody tr th {\n",
              "        vertical-align: top;\n",
              "    }\n",
              "\n",
              "    .dataframe thead th {\n",
              "        text-align: right;\n",
              "    }\n",
              "</style>\n",
              "<table border=\"1\" class=\"dataframe\">\n",
              "  <thead>\n",
              "    <tr style=\"text-align: right;\">\n",
              "      <th></th>\n",
              "      <th>country</th>\n",
              "      <th>year</th>\n",
              "      <th>sex</th>\n",
              "      <th>age</th>\n",
              "      <th>suicides_no</th>\n",
              "      <th>population</th>\n",
              "      <th>suicides/100k pop</th>\n",
              "      <th>country-year</th>\n",
              "      <th>HDI for year</th>\n",
              "      <th>gdp_for_year ($)</th>\n",
              "      <th>gdp_per_capita ($)</th>\n",
              "      <th>generation</th>\n",
              "    </tr>\n",
              "  </thead>\n",
              "  <tbody>\n",
              "    <tr>\n",
              "      <th>4172</th>\n",
              "      <td>Brazil</td>\n",
              "      <td>1985</td>\n",
              "      <td>male</td>\n",
              "      <td>75+ years</td>\n",
              "      <td>129</td>\n",
              "      <td>840300</td>\n",
              "      <td>15.35</td>\n",
              "      <td>Brazil1985</td>\n",
              "      <td>0.576</td>\n",
              "      <td>222,942,790,435</td>\n",
              "      <td>1898</td>\n",
              "      <td>G.I. Generation</td>\n",
              "    </tr>\n",
              "    <tr>\n",
              "      <th>4173</th>\n",
              "      <td>Brazil</td>\n",
              "      <td>1985</td>\n",
              "      <td>male</td>\n",
              "      <td>55-74 years</td>\n",
              "      <td>535</td>\n",
              "      <td>5364900</td>\n",
              "      <td>9.97</td>\n",
              "      <td>Brazil1985</td>\n",
              "      <td>0.576</td>\n",
              "      <td>222,942,790,435</td>\n",
              "      <td>1898</td>\n",
              "      <td>G.I. Generation</td>\n",
              "    </tr>\n",
              "    <tr>\n",
              "      <th>4174</th>\n",
              "      <td>Brazil</td>\n",
              "      <td>1985</td>\n",
              "      <td>male</td>\n",
              "      <td>35-54 years</td>\n",
              "      <td>1011</td>\n",
              "      <td>11986300</td>\n",
              "      <td>8.43</td>\n",
              "      <td>Brazil1985</td>\n",
              "      <td>0.576</td>\n",
              "      <td>222,942,790,435</td>\n",
              "      <td>1898</td>\n",
              "      <td>Silent</td>\n",
              "    </tr>\n",
              "    <tr>\n",
              "      <th>4175</th>\n",
              "      <td>Brazil</td>\n",
              "      <td>1985</td>\n",
              "      <td>male</td>\n",
              "      <td>25-34 years</td>\n",
              "      <td>791</td>\n",
              "      <td>10762900</td>\n",
              "      <td>7.35</td>\n",
              "      <td>Brazil1985</td>\n",
              "      <td>0.576</td>\n",
              "      <td>222,942,790,435</td>\n",
              "      <td>1898</td>\n",
              "      <td>Boomers</td>\n",
              "    </tr>\n",
              "    <tr>\n",
              "      <th>4176</th>\n",
              "      <td>Brazil</td>\n",
              "      <td>1985</td>\n",
              "      <td>male</td>\n",
              "      <td>15-24 years</td>\n",
              "      <td>661</td>\n",
              "      <td>13834000</td>\n",
              "      <td>4.78</td>\n",
              "      <td>Brazil1985</td>\n",
              "      <td>0.576</td>\n",
              "      <td>222,942,790,435</td>\n",
              "      <td>1898</td>\n",
              "      <td>Generation X</td>\n",
              "    </tr>\n",
              "  </tbody>\n",
              "</table>\n",
              "</div>"
            ],
            "text/plain": [
              "     country  year  ... gdp_per_capita ($)       generation\n",
              "4172  Brazil  1985  ...               1898  G.I. Generation\n",
              "4173  Brazil  1985  ...               1898  G.I. Generation\n",
              "4174  Brazil  1985  ...               1898           Silent\n",
              "4175  Brazil  1985  ...               1898          Boomers\n",
              "4176  Brazil  1985  ...               1898     Generation X\n",
              "\n",
              "[5 rows x 12 columns]"
            ]
          },
          "metadata": {
            "tags": []
          },
          "execution_count": 38
        }
      ]
    },
    {
      "cell_type": "markdown",
      "metadata": {
        "id": "dmG5szQyRgb2"
      },
      "source": [
        "Como desejamos conhecer as características pessoais, vamos selecionar as seguintes colunas \"sex\", \"age\", \"generation\" e \"year\"."
      ]
    },
    {
      "cell_type": "code",
      "metadata": {
        "id": "LiI0MQv7RX-u"
      },
      "source": [
        "df_brasil = df_brasil[['sex','age','year','generation', 'suicides_no']]"
      ],
      "execution_count": 39,
      "outputs": []
    },
    {
      "cell_type": "code",
      "metadata": {
        "id": "UhUrRXb2SQW-"
      },
      "source": [
        "df_brasil['age'] = df_brasil['age'].apply(lambda x: x.replace('+ years','') if '+' in x else x.replace(' years',''))"
      ],
      "execution_count": 40,
      "outputs": []
    },
    {
      "cell_type": "code",
      "metadata": {
        "colab": {
          "base_uri": "https://localhost:8080/",
          "height": 414
        },
        "id": "TWqfSBjGS212",
        "outputId": "56bc8a44-886a-4d84-8c18-6b197905c380"
      },
      "source": [
        "df_brasil"
      ],
      "execution_count": 41,
      "outputs": [
        {
          "output_type": "execute_result",
          "data": {
            "text/html": [
              "<div>\n",
              "<style scoped>\n",
              "    .dataframe tbody tr th:only-of-type {\n",
              "        vertical-align: middle;\n",
              "    }\n",
              "\n",
              "    .dataframe tbody tr th {\n",
              "        vertical-align: top;\n",
              "    }\n",
              "\n",
              "    .dataframe thead th {\n",
              "        text-align: right;\n",
              "    }\n",
              "</style>\n",
              "<table border=\"1\" class=\"dataframe\">\n",
              "  <thead>\n",
              "    <tr style=\"text-align: right;\">\n",
              "      <th></th>\n",
              "      <th>sex</th>\n",
              "      <th>age</th>\n",
              "      <th>year</th>\n",
              "      <th>generation</th>\n",
              "      <th>suicides_no</th>\n",
              "    </tr>\n",
              "  </thead>\n",
              "  <tbody>\n",
              "    <tr>\n",
              "      <th>4172</th>\n",
              "      <td>male</td>\n",
              "      <td>75</td>\n",
              "      <td>1985</td>\n",
              "      <td>G.I. Generation</td>\n",
              "      <td>129</td>\n",
              "    </tr>\n",
              "    <tr>\n",
              "      <th>4173</th>\n",
              "      <td>male</td>\n",
              "      <td>55-74</td>\n",
              "      <td>1985</td>\n",
              "      <td>G.I. Generation</td>\n",
              "      <td>535</td>\n",
              "    </tr>\n",
              "    <tr>\n",
              "      <th>4174</th>\n",
              "      <td>male</td>\n",
              "      <td>35-54</td>\n",
              "      <td>1985</td>\n",
              "      <td>Silent</td>\n",
              "      <td>1011</td>\n",
              "    </tr>\n",
              "    <tr>\n",
              "      <th>4175</th>\n",
              "      <td>male</td>\n",
              "      <td>25-34</td>\n",
              "      <td>1985</td>\n",
              "      <td>Boomers</td>\n",
              "      <td>791</td>\n",
              "    </tr>\n",
              "    <tr>\n",
              "      <th>4176</th>\n",
              "      <td>male</td>\n",
              "      <td>15-24</td>\n",
              "      <td>1985</td>\n",
              "      <td>Generation X</td>\n",
              "      <td>661</td>\n",
              "    </tr>\n",
              "    <tr>\n",
              "      <th>...</th>\n",
              "      <td>...</td>\n",
              "      <td>...</td>\n",
              "      <td>...</td>\n",
              "      <td>...</td>\n",
              "      <td>...</td>\n",
              "    </tr>\n",
              "    <tr>\n",
              "      <th>4539</th>\n",
              "      <td>female</td>\n",
              "      <td>25-34</td>\n",
              "      <td>2015</td>\n",
              "      <td>Millenials</td>\n",
              "      <td>466</td>\n",
              "    </tr>\n",
              "    <tr>\n",
              "      <th>4540</th>\n",
              "      <td>female</td>\n",
              "      <td>75</td>\n",
              "      <td>2015</td>\n",
              "      <td>Silent</td>\n",
              "      <td>89</td>\n",
              "    </tr>\n",
              "    <tr>\n",
              "      <th>4541</th>\n",
              "      <td>female</td>\n",
              "      <td>15-24</td>\n",
              "      <td>2015</td>\n",
              "      <td>Millenials</td>\n",
              "      <td>397</td>\n",
              "    </tr>\n",
              "    <tr>\n",
              "      <th>4542</th>\n",
              "      <td>male</td>\n",
              "      <td>5-14</td>\n",
              "      <td>2015</td>\n",
              "      <td>Generation Z</td>\n",
              "      <td>79</td>\n",
              "    </tr>\n",
              "    <tr>\n",
              "      <th>4543</th>\n",
              "      <td>female</td>\n",
              "      <td>5-14</td>\n",
              "      <td>2015</td>\n",
              "      <td>Generation Z</td>\n",
              "      <td>56</td>\n",
              "    </tr>\n",
              "  </tbody>\n",
              "</table>\n",
              "<p>372 rows × 5 columns</p>\n",
              "</div>"
            ],
            "text/plain": [
              "         sex    age  year       generation  suicides_no\n",
              "4172    male     75  1985  G.I. Generation          129\n",
              "4173    male  55-74  1985  G.I. Generation          535\n",
              "4174    male  35-54  1985           Silent         1011\n",
              "4175    male  25-34  1985          Boomers          791\n",
              "4176    male  15-24  1985     Generation X          661\n",
              "...      ...    ...   ...              ...          ...\n",
              "4539  female  25-34  2015       Millenials          466\n",
              "4540  female     75  2015           Silent           89\n",
              "4541  female  15-24  2015       Millenials          397\n",
              "4542    male   5-14  2015     Generation Z           79\n",
              "4543  female   5-14  2015     Generation Z           56\n",
              "\n",
              "[372 rows x 5 columns]"
            ]
          },
          "metadata": {
            "tags": []
          },
          "execution_count": 41
        }
      ]
    },
    {
      "cell_type": "markdown",
      "metadata": {
        "id": "hALhqs1dTOAw"
      },
      "source": [
        "## Análise exploratória"
      ]
    },
    {
      "cell_type": "markdown",
      "metadata": {
        "id": "03KrsbNiTReh"
      },
      "source": [
        "### Por gênero"
      ]
    },
    {
      "cell_type": "code",
      "metadata": {
        "colab": {
          "base_uri": "https://localhost:8080/",
          "height": 375
        },
        "id": "SwhQzTWATQiC",
        "outputId": "86b0c177-ed4a-4f48-e716-a319c7141f22"
      },
      "source": [
        "generos = df_brasil.groupby('sex').suicides_no.sum() / df_brasil.groupby('sex').suicides_no.sum().sum()\n",
        "\n",
        "fig = plt.figure(figsize=(6,6))\n",
        "plt.pie(generos, labels=['MULHERES', 'HOMENS'], colors = cor_genero, autopct='%1.1f%%', startangle=90)\n",
        "plt.title('Número de suicídio por gênero (1985 - 2015)', fontsize=15);"
      ],
      "execution_count": 60,
      "outputs": [
        {
          "output_type": "display_data",
          "data": {
            "image/png": "[encoded data removed]",
            "text/plain": [
              "<Figure size 432x432 with 1 Axes>"
            ]
          },
          "metadata": {
            "tags": []
          }
        }
      ]
    },
    {
      "cell_type": "code",
      "metadata": {
        "colab": {
          "base_uri": "https://localhost:8080/",
          "height": 355
        },
        "id": "pkqaJAgSURhS",
        "outputId": "b6f95dcf-b5eb-402d-afd4-54ad03467311"
      },
      "source": [
        "df_brasil.groupby('age').suicides_no.sum().plot(kind='bar', figsize=(10,5))\n",
        "plt.box(False)\n",
        "plt.xticks(rotation=360)\n",
        "plt.xlabel('Idade',fontsize=13)\n",
        "plt.title('Número de suicídio por idade (1985 - 2015)', fontsize=15);"
      ],
      "execution_count": 74,
      "outputs": [
        {
          "output_type": "display_data",
          "data": {
            "image/png": "[encoded data removed]",
            "text/plain": [
              "<Figure size 720x360 with 1 Axes>"
            ]
          },
          "metadata": {
            "tags": [],
            "needs_background": "light"
          }
        }
      ]
    },
    {
      "cell_type": "code",
      "metadata": {
        "colab": {
          "base_uri": "https://localhost:8080/",
          "height": 284
        },
        "id": "h6k9Z79yUWF8",
        "outputId": "1f7584f1-f3e6-4716-c873-4795eae6b8db"
      },
      "source": [
        "df_brasil.groupby('generation').suicides_no.sum().plot(kind='barh')\n",
        "plt.box(False)\n",
        "plt.ylabel('Geração',fontsize=13)\n",
        "plt.title('Número de suicídio por geração (1985 - 2015)', fontsize=15);"
      ],
      "execution_count": 78,
      "outputs": [
        {
          "output_type": "display_data",
          "data": {
            "image/png": "[encoded data removed]",
            "text/plain": [
              "<Figure size 432x288 with 1 Axes>"
            ]
          },
          "metadata": {
            "tags": [],
            "needs_background": "light"
          }
        }
      ]
    },
    {
      "cell_type": "code",
      "metadata": {
        "colab": {
          "base_uri": "https://localhost:8080/",
          "height": 336
        },
        "id": "3Nu3emGiUeSl",
        "outputId": "6ce85323-a959-42ba-d210-c6f6c780c41d"
      },
      "source": [
        "df_brasil.groupby('year').suicides_no.sum().plot(figsize=(10,5))\n",
        "plt.box(False)\n",
        "plt.xlabel('Ano',fontsize=13);"
      ],
      "execution_count": 79,
      "outputs": [
        {
          "output_type": "display_data",
          "data": {
            "image/png": "[encoded data removed]",
            "text/plain": [
              "<Figure size 720x360 with 1 Axes>"
            ]
          },
          "metadata": {
            "tags": [],
            "needs_background": "light"
          }
        }
      ]
    },
    {
      "cell_type": "markdown",
      "metadata": {
        "id": "XsK-_Q1aVyjT"
      },
      "source": [
        "## Direcionamento da campanha"
      ]
    },
    {
      "cell_type": "markdown",
      "metadata": {
        "id": "glQy1CBZV3W0"
      },
      "source": [
        "Observa-se que os índices de suicídios são mais altos em pessoas do **sexo masculino, com idade entre 35-54 anos, sendo da geração \"boomers\" ou \"geração x\"**, e essa tendência acompanha a tendência positiva de crescimento da taxa de suicídio absoluto desde 1985"
      ]
    },
    {
      "cell_type": "code",
      "metadata": {
        "colab": {
          "base_uri": "https://localhost:8080/",
          "height": 295
        },
        "id": "FRAj8s0vWLm0",
        "outputId": "0f90a36e-40a2-4e58-fe7a-611345a5e7c4"
      },
      "source": [
        "df_brasil[(df_brasil['age'] == '35-54') & (df_brasil['sex'] == 'male') & (df_brasil['generation'] == 'Boomers') |(df_brasil['generation'] == 'Generation X')].groupby('year').suicides_no.sum().plot()"
      ],
      "execution_count": 55,
      "outputs": [
        {
          "output_type": "execute_result",
          "data": {
            "text/plain": [
              "<matplotlib.axes._subplots.AxesSubplot at 0x7fc968050b10>"
            ]
          },
          "metadata": {
            "tags": []
          },
          "execution_count": 55
        },
        {
          "output_type": "display_data",
          "data": {
            "image/png": "[encoded data removed]",
            "text/plain": [
              "<Figure size 432x288 with 1 Axes>"
            ]
          },
          "metadata": {
            "tags": [],
            "needs_background": "light"
          }
        }
      ]
    },
    {
      "cell_type": "markdown",
      "metadata": {
        "id": "rV4_6ZFrXpzg"
      },
      "source": [
        "Uma campanha de marketing eficiente e efetivo na luta contra o suicídio, deve ser ampla, mas buscando estar presente em locais onde haja uma maior concentração de pessoas propícias ao suicídio. Os dados e resultados aqui apresentados podem ser muito úteis para essa tarefa."
      ]
    }
  ]
}